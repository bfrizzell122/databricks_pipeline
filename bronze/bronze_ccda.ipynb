{
 "cells": [
  {
   "cell_type": "markdown",
   "metadata": {
    "application/vnd.databricks.v1+cell": {
     "cellMetadata": {},
     "inputWidgets": {},
     "nuid": "7ecb052e-70ce-445d-8be3-06f75c2d63a0",
     "showTitle": false,
     "tableResultSettingsMap": {},
     "title": ""
    }
   },
   "source": [
    "# Requirements\n",
    "1. Analyze and parse the content from the documents into their respective domains. \n",
    "    - Medications\n",
    "    - Problems\n",
    "\n",
    "#Assumptions\n",
    "1. CCDA XML files will remain small and can be stored as a string in a single column.\n",
    "2. Data does not need to be masked.\n",
    "\n",
    "# Improvements\n",
    "1. In a production environmentm, there are several approaches that can mitigate any performance issues related to larger CCDA XML files. Options 1 & 2 would be preferred for streaming CCDA documents when we cannot retain the physical file. Option 3 is better when we can retain all the files but requires parsing for every read which adds complexity and performance implications.\n",
    "    1. Storing the XML as binary to save space and could also improve reads.\n",
    "    2. Chunking XML data into fixed size columns.\n",
    "    3. Storing the file path in the table and reading the data at run-time.\n",
    "\n"
   ]
  },
  {
   "cell_type": "code",
   "execution_count": 0,
   "metadata": {
    "application/vnd.databricks.v1+cell": {
     "cellMetadata": {
      "byteLimit": 2048000,
      "rowLimit": 10000
     },
     "inputWidgets": {},
     "nuid": "87d4e3a5-d756-4713-b4c1-d064a3d23c21",
     "showTitle": false,
     "tableResultSettingsMap": {},
     "title": ""
    }
   },
   "outputs": [],
   "source": [
    "import xml.etree.ElementTree as ET\n",
    "\n",
    "def parse_ccda(xml_file):\n",
    "    \"\"\"\n",
    "    Parses a CCDA XML file and extracts relevant information.\n",
    "    \n",
    "    Args:\n",
    "        xml_file (str): Path to the CCDA XML file.\n",
    "    \n",
    "    Returns:\n",
    "        dict: A dictionary containing extracted data from the CCDA.\n",
    "    \"\"\"\n",
    "    tree = ET.parse(xml_file)\n",
    "    root = tree.getroot()\n",
    "    \n",
    "    # Define namespaces (if needed)\n",
    "    namespaces = {'hl7': 'urn:hl7-org:v3'}\n",
    "    # ET.register_namespace('hl7', 'urn:hl7-org:v3')\n",
    "    \n",
    "    # Extract data using XPath\n",
    "    patient_fname = root.find('.//hl7:patient/hl7:name/hl7:given', namespaces).text\n",
    "    patient_lname = root.find('.//hl7:patient/hl7:name/hl7:family', namespaces).text\n",
    "\n",
    "    # patient_fname = root.find('.//patient/name/given').text\n",
    "    # patient_lname = root.find('.//patient/name/hamily').text\n",
    "    # '''\n",
    "    # Extracting multiple elements\n",
    "    # medications = root.findall('.//hl7:section[hl7:code[@code=\"10160-0\"]]', namespaces)\n",
    "    all_sections = root.findall('.//hl7:section', namespaces)\n",
    "\n",
    "    # Filter for sections with code=\"10160-0\"\n",
    "    sections_with_target_code = []\n",
    "    for section in all_sections:\n",
    "        codes = section.findall('./hl7:code[@code=\"10160-0\"]', namespaces)\n",
    "        if codes:\n",
    "            sections_with_target_code.append(section)\n",
    "\n",
    "    # Collect all consumable elements that are descendants of these specific sections\n",
    "    target_consumables = []\n",
    "\n",
    "    for section in sections_with_target_code:\n",
    "        consumables = section.findall('.//hl7:consumable', namespaces)\n",
    "        target_consumables.extend(consumables)\n",
    "\n",
    "    # Print results\n",
    "    print(f\"Found {len(target_consumables)} consumable elements in sections with code 10160-0\")\n",
    "    print(target_consumables)\n",
    "\n",
    "    # Process each consumable\n",
    "    for i, consumable in enumerate(target_consumables):\n",
    "        print(f\"\\nConsumable #{i+1}:\")\n",
    "        \n",
    "        manufactured_product = consumable.find('./hl7:manufacturedProduct', namespaces)\n",
    "        if manufactured_product is not None:\n",
    "            material = manufactured_product.find('./hl7:manufacturedMaterial', namespaces)\n",
    "            if material is not None:\n",
    "                code = material.find('./hl7:code', namespaces)\n",
    "                if code is not None:\n",
    "                    display_name = code.get('displayName')\n",
    "                    if display_name is not None:\n",
    "                        print(f\"Display Name: {display_name}\")\n",
    "                    else:\n",
    "                        translation = code.find('./hl7:translation[@displayName]', namespaces)\n",
    "                        if translation is not None:\n",
    "                            display_name = translation.get('displayName')\n",
    "                            print(f\"Display Name: {display_name}\")\n",
    "                        else:\n",
    "                            print(f\"Display Name: not available\")\n",
    "\n",
    "                    original_text = code.find('./hl7:originalText', namespaces)\n",
    "                    if original_text is not None:\n",
    "                        reference = original_text.find('./hl7:reference', namespaces)\n",
    "                        if reference is not None:\n",
    "                            print(f\"Reference value: {reference.get('value')}\")\n",
    "                    \n",
    "    #'''\n",
    "    # Structure the extracted data\n",
    "    ccda_data = {\n",
    "        'patient_fname': patient_fname\n",
    "        ,'patient_lname': patient_lname\n",
    "        # ,'medications': medications\n",
    "    }\n",
    "    \n",
    "    return ccda_data\n",
    "\n",
    "\n",
    "file_path = '0ww66gj1-5627-705o-1719-2710c04560aa_034c3eab764e9bf9dae33996c3371e5e64ab73b3_masked.xml'\n",
    "parsed_data = parse_ccda(file_path)\n",
    "print(parsed_data)\n"
   ]
  }
 ],
 "metadata": {
  "application/vnd.databricks.v1+notebook": {
   "computePreferences": null,
   "dashboards": [],
   "environmentMetadata": {
    "base_environment": "",
    "environment_version": "2"
   },
   "inputWidgetPreferences": null,
   "language": "python",
   "notebookMetadata": {
    "pythonIndentUnit": 4
   },
   "notebookName": "bronze_ccda",
   "widgets": {}
  },
  "language_info": {
   "name": "python"
  }
 },
 "nbformat": 4,
 "nbformat_minor": 0
}
