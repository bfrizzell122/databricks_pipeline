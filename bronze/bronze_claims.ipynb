{
 "cells": [
  {
   "cell_type": "markdown",
   "metadata": {
    "application/vnd.databricks.v1+cell": {
     "cellMetadata": {},
     "inputWidgets": {},
     "nuid": "5156d010-5ec5-4692-9e21-24f8ba2a67ca",
     "showTitle": false,
     "tableResultSettingsMap": {},
     "title": ""
    }
   },
   "source": [
    "# Requirements\n",
    "1. \n",
    "\n",
    "#Assumptions\n",
    "1. \n",
    "\n",
    "# Improvements\n",
    "1. \n"
   ]
  },
  {
   "cell_type": "code",
   "execution_count": 0,
   "metadata": {
    "application/vnd.databricks.v1+cell": {
     "cellMetadata": {},
     "inputWidgets": {},
     "nuid": "fe246216-ae1c-4063-89c2-b790895b0b85",
     "showTitle": false,
     "tableResultSettingsMap": {},
     "title": ""
    }
   },
   "outputs": [],
   "source": [
    "# Basic file listing using dbutils\n",
    "files = dbutils.fs.ls(\"s3://millimandatalake/raw/claims\")\n",
    "display(files)"
   ]
  },
  {
   "cell_type": "code",
   "execution_count": 0,
   "metadata": {
    "application/vnd.databricks.v1+cell": {
     "cellMetadata": {
      "byteLimit": 2048000,
      "rowLimit": 10000
     },
     "inputWidgets": {},
     "nuid": "a26b8ac6-c7c2-467b-ac63-10f60f5a6a1c",
     "showTitle": false,
     "tableResultSettingsMap": {},
     "title": ""
    }
   },
   "outputs": [],
   "source": [
    "# Reading a specific file using spark.read\n",
    "path_claims = \"s3://millimandatalake/raw/claims/data_engineer_exam_claims_final.csv\"\n",
    "\n",
    "df = (spark.read.format(\"csv\").option(\"header\", \"true\").load(path_claims)).createOrReplaceTempView(\"claims\")\n",
    "\n",
    "df2 = spark.sql(\"select * from claims\")\n",
    "\n",
    "display(df2)"
   ]
  }
 ],
 "metadata": {
  "application/vnd.databricks.v1+notebook": {
   "computePreferences": null,
   "dashboards": [],
   "environmentMetadata": {
    "base_environment": "",
    "environment_version": "2"
   },
   "inputWidgetPreferences": null,
   "language": "python",
   "notebookMetadata": {
    "pythonIndentUnit": 4
   },
   "notebookName": "bronze_claims",
   "widgets": {}
  },
  "language_info": {
   "name": "python"
  }
 },
 "nbformat": 4,
 "nbformat_minor": 0
}
